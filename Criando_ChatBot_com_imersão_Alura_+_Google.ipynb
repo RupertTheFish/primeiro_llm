{
  "nbformat": 4,
  "nbformat_minor": 0,
  "metadata": {
    "colab": {
      "provenance": [],
      "authorship_tag": "ABX9TyODd7CuxJGT7BgjvFL1prb4",
      "include_colab_link": true
    },
    "kernelspec": {
      "name": "python3",
      "display_name": "Python 3"
    },
    "language_info": {
      "name": "python"
    }
  },
  "cells": [
    {
      "cell_type": "markdown",
      "metadata": {
        "id": "view-in-github",
        "colab_type": "text"
      },
      "source": [
        "<a href=\"https://colab.research.google.com/github/RupertTheFish/primeiro_llm/blob/main/Criando_ChatBot_com_imers%C3%A3o_Alura_%2B_Google.ipynb\" target=\"_parent\"><img src=\"https://colab.research.google.com/assets/colab-badge.svg\" alt=\"Open In Colab\"/></a>"
      ]
    },
    {
      "cell_type": "markdown",
      "source": [
        "Instalando o SDK do Google"
      ],
      "metadata": {
        "id": "P7Uczd2DlPzW"
      }
    },
    {
      "cell_type": "code",
      "execution_count": 1,
      "metadata": {
        "id": "EeGmV3OjlCKv"
      },
      "outputs": [],
      "source": [
        "!pip install -q -U google-generativeai"
      ]
    },
    {
      "cell_type": "markdown",
      "source": [
        "Importando o SDK, utilizando um apelido \"genai\".\n"
      ],
      "metadata": {
        "id": "DWLzi9crldv6"
      }
    },
    {
      "cell_type": "code",
      "source": [
        "import google.generativeai as genai\n",
        "from google.colab import userdata\n",
        "api_key = userdata.get('SECRET_KEY')\n",
        "genai.configure(api_key=api_key)"
      ],
      "metadata": {
        "id": "bVipWMiBlHDt"
      },
      "execution_count": 2,
      "outputs": []
    },
    {
      "cell_type": "markdown",
      "source": [
        "Listar todos os modelos generativos disponíveis:\n"
      ],
      "metadata": {
        "id": "txx6GGU5nVSw"
      }
    },
    {
      "cell_type": "code",
      "source": [
        "for m in genai.list_models():\n",
        "  if 'generateContent' in m.supported_generation_methods:\n",
        "    print(m.name)"
      ],
      "metadata": {
        "colab": {
          "base_uri": "https://localhost:8080/",
          "height": 139
        },
        "id": "3T1r9DLqnbyZ",
        "outputId": "d883aa27-ba19-4512-ff02-ea414440dba4"
      },
      "execution_count": 4,
      "outputs": [
        {
          "output_type": "stream",
          "name": "stdout",
          "text": [
            "models/gemini-1.0-pro\n",
            "models/gemini-1.0-pro-001\n",
            "models/gemini-1.0-pro-latest\n",
            "models/gemini-1.0-pro-vision-latest\n",
            "models/gemini-1.5-pro-latest\n",
            "models/gemini-pro\n",
            "models/gemini-pro-vision\n"
          ]
        }
      ]
    },
    {
      "cell_type": "markdown",
      "source": [
        "Configurando a temperatura:"
      ],
      "metadata": {
        "id": "NtEEJ3fEu1NV"
      }
    },
    {
      "cell_type": "code",
      "source": [
        "generation_config = {\n",
        "    \"candidate_count\": 1,\n",
        "    \"temperature\": 0.5,\n",
        "}"
      ],
      "metadata": {
        "id": "hTdRNEY9tRPC"
      },
      "execution_count": 5,
      "outputs": []
    },
    {
      "cell_type": "markdown",
      "source": [
        "Configurações de segurança:"
      ],
      "metadata": {
        "id": "SjSMAs1Wu7Nr"
      }
    },
    {
      "cell_type": "code",
      "source": [
        "safety_settings = {\n",
        "    \"HARASSMENT\": \"BLOCK_NONE\",\n",
        "    \"HATE\": \"BLOCK_NONE\",\n",
        "    \"SEXUAL\": \"BLOCK_NONE\",\n",
        "    \"DANGEROUS\": \"BLOCK_NONE\",\n",
        "}"
      ],
      "metadata": {
        "id": "dBUjECZhtgYI"
      },
      "execution_count": 10,
      "outputs": []
    },
    {
      "cell_type": "markdown",
      "source": [
        "Definindo, dentro de uma variável (model), qual a versão do modelo generativo será usada:\n"
      ],
      "metadata": {
        "id": "iwWXWHTwlrVa"
      }
    },
    {
      "cell_type": "code",
      "source": [
        "model = genai.GenerativeModel(model_name=\"gemini-1.0-pro\",\n",
        "                              generation_config=generation_config,\n",
        "                              safety_settings=safety_settings)"
      ],
      "metadata": {
        "id": "i3PKpzYBlJok"
      },
      "execution_count": 11,
      "outputs": []
    },
    {
      "cell_type": "markdown",
      "source": [
        "Definindo a variável resposta do modelo ao usuário:\n"
      ],
      "metadata": {
        "id": "jcZBPmN_l6SA"
      }
    },
    {
      "cell_type": "code",
      "source": [
        "response = model.generate_content(\"Quais cursos gratuitos, assim como o CS50 de Harvard, estão disponíveis ao público geral?\")\n",
        "print(response.text)"
      ],
      "metadata": {
        "colab": {
          "base_uri": "https://localhost:8080/",
          "height": 764
        },
        "id": "i6hjtVkylNNt",
        "outputId": "362ca9b7-6a07-48fc-83b5-0ac52c7c0e5b"
      },
      "execution_count": 13,
      "outputs": [
        {
          "output_type": "stream",
          "name": "stdout",
          "text": [
            "**Cursos Gratuitos Semelhantes ao CS50 de Harvard**\n",
            "\n",
            "**Ciência da Computação e Programação:**\n",
            "\n",
            "* **Introdução à Ciência da Computação e Programação usando Python** (MIT OpenCourseWare)\n",
            "* **Introdução à Ciência da Computação** (Stanford Online)\n",
            "* **Fundamentos da Ciência da Computação** (edX)\n",
            "* **Programação para Iniciantes com Python** (Coursera)\n",
            "* **Programação com JavaScript** (Codecademy)\n",
            "\n",
            "**Inteligência Artificial e Aprendizado de Máquina:**\n",
            "\n",
            "* **Introdução à Inteligência Artificial** (Coursera)\n",
            "* **Aprendizado de Máquina** (edX)\n",
            "* **Inteligência Artificial para Todos** (Udacity)\n",
            "* **Fundamentos de Aprendizado de Máquina** (Google AI)\n",
            "* **Introdução ao Aprendizado Profundo** (MIT OpenCourseWare)\n",
            "\n",
            "**Ciência de Dados e Análise:**\n",
            "\n",
            "* **Ciência de Dados para Iniciantes** (Coursera)\n",
            "* **Introdução à Ciência de Dados** (edX)\n",
            "* **Análise de Dados com Python** (Udemy)\n",
            "* **Visualização de Dados** (DataCamp)\n",
            "* **Estatística para Ciência de Dados** (MIT OpenCourseWare)\n",
            "\n",
            "**Outros Cursos Gratuitos:**\n",
            "\n",
            "* **Introdução à Criptografia** (Coursera)\n",
            "* **Introdução à Cibersegurança** (edX)\n",
            "* **Introdução à Web Design** (Udemy)\n",
            "* **Introdução ao Design Gráfico** (Skillshare)\n",
            "* **Introdução à Fotografia** (Alison)\n",
            "\n",
            "**Plataformas que Oferecem Cursos Gratuitos:**\n",
            "\n",
            "* Coursera\n",
            "* edX\n",
            "* MIT OpenCourseWare\n",
            "* Udemy\n",
            "* Codecademy\n",
            "* DataCamp\n",
            "* Alison\n"
          ]
        }
      ]
    },
    {
      "cell_type": "code",
      "source": [
        "chat = model.start_chat(history=[])"
      ],
      "metadata": {
        "id": "XlGwqrBexAPI"
      },
      "execution_count": 15,
      "outputs": []
    },
    {
      "cell_type": "code",
      "source": [
        "prompt = input(\"Esperando o prompt: \")\n",
        "\n",
        "while prompt != \"fim\":\n",
        "  response = chat.send_message(prompt)\n",
        "  print(\"Resposta: \", response.text, \"\\n\")\n",
        "  prompt = input(\"Esperando o prompt: \")"
      ],
      "metadata": {
        "colab": {
          "base_uri": "https://localhost:8080/",
          "height": 489
        },
        "id": "dQ6ZGL32xrgh",
        "outputId": "7ef5f29d-a460-42ba-99cd-c55d5a2142b1"
      },
      "execution_count": 20,
      "outputs": [
        {
          "name": "stdout",
          "output_type": "stream",
          "text": [
            "Esperando o prompt: Qual a capital do Japão\n",
            "Resposta:  Tóquio \n",
            "\n",
            "Esperando o prompt: Qual é a comida típica desse país?\n",
            "Resposta:  Sushi \n",
            "\n",
            "Esperando o prompt: Qual é a principal religião desse país?\n",
            "Resposta:  Xintoísmo \n",
            "\n",
            "Esperando o prompt: Crie uma história com esses três elementos\n",
            "Resposta:  Em meio à vibrante metrópole de Tóquio, onde arranha-céus se elevavam majestosamente e o aroma de sushi recém-preparado permeava o ar, uma história extraordinária estava prestes a se desenrolar.\n",
            "\n",
            "Akari, uma jovem devota do xintoísmo, caminhava pelas ruas movimentadas, seu quimono tradicional fluindo atrás dela. Enquanto passava por um santuário xintoísta, ela notou um pequeno altar dedicado a Inari, o deus do arroz. Sentindo uma profunda conexão com a divindade, Akari se ajoelhou e ofereceu uma prece.\n",
            "\n",
            "De repente, o ar ao redor dela começou a tremer. O altar brilhou com uma luz etérea, e uma fumaça perfumada subiu ao céu. Para seu espanto, um espírito de raposa branca emergiu da névoa, seus olhos brilhando com sabedoria ancestral.\n",
            "\n",
            "\"Akari\", disse o espírito, sua voz como o sussurro do vento, \"você possui um coração puro e uma fé inabalável. Eu fui enviado para guiá-la em uma jornada que mudará sua vida para sempre.\"\n",
            "\n",
            "Com o espírito de raposa ao seu lado, Akari embarcou em uma aventura extraordinária. Eles visitaram templos antigos, onde ela aprendeu os segredos do xintoísmo. Eles provaram o delicioso sushi em restaurantes tradicionais, onde ela experimentou a essência da culinária japonesa.\n",
            "\n",
            "Ao longo do caminho, Akari enfrentou desafios e provações. Mas com a orientação do espírito de raposa e sua fé inabalável, ela superou cada obstáculo. No final de sua jornada, Akari havia se transformado em uma mulher sábia e compassiva, profundamente conectada com as tradições e o espírito do Japão. \n",
            "\n",
            "Esperando o prompt: Qual é a população dessa cidade\n",
            "Resposta:  Tóquio: 9.000.846 (2023) \n",
            "\n",
            "Esperando o prompt: fim\n"
          ]
        }
      ]
    },
    {
      "cell_type": "code",
      "source": [
        "chat.history"
      ],
      "metadata": {
        "colab": {
          "base_uri": "https://localhost:8080/"
        },
        "id": "gu5R3QVR0KIP",
        "outputId": "4eeddc20-c222-4fbd-e2d0-a8521e49c1ad"
      },
      "execution_count": 22,
      "outputs": [
        {
          "output_type": "execute_result",
          "data": {
            "text/plain": [
              "[parts {\n",
              "   text: \"Qual a capital do Jap\\303\\243o\"\n",
              " }\n",
              " role: \"user\",\n",
              " parts {\n",
              "   text: \"T\\303\\263quio\"\n",
              " }\n",
              " role: \"model\",\n",
              " parts {\n",
              "   text: \"Qual \\303\\251 a comida t\\303\\255pica desse pa\\303\\255s?\"\n",
              " }\n",
              " role: \"user\",\n",
              " parts {\n",
              "   text: \"Sushi\"\n",
              " }\n",
              " role: \"model\",\n",
              " parts {\n",
              "   text: \"Qual \\303\\251 a principal religi\\303\\243o desse pa\\303\\255s?\"\n",
              " }\n",
              " role: \"user\",\n",
              " parts {\n",
              "   text: \"Xinto\\303\\255smo\"\n",
              " }\n",
              " role: \"model\",\n",
              " parts {\n",
              "   text: \"Crie uma hist\\303\\263ria com esses tr\\303\\252s elementos\"\n",
              " }\n",
              " role: \"user\",\n",
              " parts {\n",
              "   text: \"Em meio \\303\\240 vibrante metr\\303\\263pole de T\\303\\263quio, onde arranha-c\\303\\251us se elevavam majestosamente e o aroma de sushi rec\\303\\251m-preparado permeava o ar, uma hist\\303\\263ria extraordin\\303\\241ria estava prestes a se desenrolar.\\n\\nAkari, uma jovem devota do xinto\\303\\255smo, caminhava pelas ruas movimentadas, seu quimono tradicional fluindo atr\\303\\241s dela. Enquanto passava por um santu\\303\\241rio xinto\\303\\255sta, ela notou um pequeno altar dedicado a Inari, o deus do arroz. Sentindo uma profunda conex\\303\\243o com a divindade, Akari se ajoelhou e ofereceu uma prece.\\n\\nDe repente, o ar ao redor dela come\\303\\247ou a tremer. O altar brilhou com uma luz et\\303\\251rea, e uma fuma\\303\\247a perfumada subiu ao c\\303\\251u. Para seu espanto, um esp\\303\\255rito de raposa branca emergiu da n\\303\\251voa, seus olhos brilhando com sabedoria ancestral.\\n\\n\\\"Akari\\\", disse o esp\\303\\255rito, sua voz como o sussurro do vento, \\\"voc\\303\\252 possui um cora\\303\\247\\303\\243o puro e uma f\\303\\251 inabal\\303\\241vel. Eu fui enviado para gui\\303\\241-la em uma jornada que mudar\\303\\241 sua vida para sempre.\\\"\\n\\nCom o esp\\303\\255rito de raposa ao seu lado, Akari embarcou em uma aventura extraordin\\303\\241ria. Eles visitaram templos antigos, onde ela aprendeu os segredos do xinto\\303\\255smo. Eles provaram o delicioso sushi em restaurantes tradicionais, onde ela experimentou a ess\\303\\252ncia da culin\\303\\241ria japonesa.\\n\\nAo longo do caminho, Akari enfrentou desafios e prova\\303\\247\\303\\265es. Mas com a orienta\\303\\247\\303\\243o do esp\\303\\255rito de raposa e sua f\\303\\251 inabal\\303\\241vel, ela superou cada obst\\303\\241culo. No final de sua jornada, Akari havia se transformado em uma mulher s\\303\\241bia e compassiva, profundamente conectada com as tradi\\303\\247\\303\\265es e o esp\\303\\255rito do Jap\\303\\243o.\"\n",
              " }\n",
              " role: \"model\",\n",
              " parts {\n",
              "   text: \"Qual \\303\\251 a popula\\303\\247\\303\\243o dessa cidade\"\n",
              " }\n",
              " role: \"user\",\n",
              " parts {\n",
              "   text: \"T\\303\\263quio: 9.000.846 (2023)\"\n",
              " }\n",
              " role: \"model\"]"
            ]
          },
          "metadata": {},
          "execution_count": 22
        }
      ]
    }
  ]
}